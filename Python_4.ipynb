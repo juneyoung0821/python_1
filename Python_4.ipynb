{
  "nbformat": 4,
  "nbformat_minor": 0,
  "metadata": {
    "colab": {
      "provenance": [],
      "include_colab_link": true
    },
    "kernelspec": {
      "name": "python3",
      "display_name": "Python 3"
    },
    "language_info": {
      "name": "python"
    }
  },
  "cells": [
    {
      "cell_type": "markdown",
      "metadata": {
        "id": "view-in-github",
        "colab_type": "text"
      },
      "source": [
        "<a href=\"https://colab.research.google.com/github/juneyoung0821/python_1/blob/main/Python_4.ipynb\" target=\"_parent\"><img src=\"https://colab.research.google.com/assets/colab-badge.svg\" alt=\"Open In Colab\"/></a>"
      ]
    },
    {
      "cell_type": "code",
      "execution_count": null,
      "metadata": {
        "colab": {
          "base_uri": "https://localhost:8080/"
        },
        "id": "HaV2wtFtTALi",
        "outputId": "8edaa941-657f-4b2b-bb2a-f3acf107d0fa"
      },
      "outputs": [
        {
          "output_type": "stream",
          "name": "stdout",
          "text": [
            "1.3333333333333333\n",
            "0.5\n",
            "2.0\n",
            "2\n",
            "1\n",
            "1024\n"
          ]
        }
      ],
      "source": [
        "print(4/3)\n",
        "print(1/2)\n",
        "print(4/2)\n",
        "print(7//3)\n",
        "print(7%3)\n",
        "print(2**10)"
      ]
    },
    {
      "cell_type": "code",
      "source": [
        "divmod(5,2)"
      ],
      "metadata": {
        "colab": {
          "base_uri": "https://localhost:8080/"
        },
        "id": "8JZGS_4dUoea",
        "outputId": "9e9c5b4a-acfa-4f1c-fc1b-16454dfb57eb"
      },
      "execution_count": null,
      "outputs": [
        {
          "output_type": "stream",
          "name": "stdout",
          "text": [
            "2 1\n"
          ]
        }
      ]
    },
    {
      "cell_type": "code",
      "source": [
        "quotient,remainder=divmod(5,2)\n",
        "print(quotient,remainder)"
      ],
      "metadata": {
        "colab": {
          "base_uri": "https://localhost:8080/"
        },
        "id": "i11-ahpRV-Jx",
        "outputId": "a28b021a-c0c7-4cb5-969d-295b9ae4ef49"
      },
      "execution_count": null,
      "outputs": [
        {
          "output_type": "stream",
          "name": "stdout",
          "text": [
            "2 1\n"
          ]
        }
      ]
    },
    {
      "cell_type": "code",
      "source": [
        "a=1024\n",
        "print(a)\n",
        "a+=1024\n",
        "print(a)\n",
        "a-=1024\n",
        "print(a)\n",
        "a*=4\n",
        "print(a)\n",
        "a/=2\n",
        "print(a)\n",
        "a//=2\n",
        "print(a)\n",
        "a%=1022\n",
        "print(a)\n",
        "a**= 10\n",
        "print(a)"
      ],
      "metadata": {
        "colab": {
          "base_uri": "https://localhost:8080/"
        },
        "id": "8TstAr9kW6fi",
        "outputId": "18cd4331-5c9a-403b-eeb0-7248928b9c4a"
      },
      "execution_count": null,
      "outputs": [
        {
          "output_type": "stream",
          "name": "stdout",
          "text": [
            "1024\n",
            "2048\n",
            "1024\n",
            "4096\n",
            "2048.0\n",
            "1024.0\n",
            "2.0\n",
            "1024.0\n"
          ]
        }
      ]
    },
    {
      "cell_type": "code",
      "source": [
        "a = 10\n",
        "b = 3\n",
        "print(\"10 == 3 =>\", a==b)\n",
        "print(\"10 != 3 =>\", a!=b)\n",
        "print(\"10 > 3 =>\", a>b)\n",
        "print(\"10 < 3 =>\", a>=b)\n",
        "print(\"10 <= 3 =>\", a<=b)"
      ],
      "metadata": {
        "colab": {
          "base_uri": "https://localhost:8080/"
        },
        "id": "fRVn7oBfXLLx",
        "outputId": "bfd5e70f-7ee8-483c-9c60-874e924dc47a"
      },
      "execution_count": null,
      "outputs": [
        {
          "output_type": "stream",
          "name": "stdout",
          "text": [
            "10 == 3 => False\n",
            "10 != 3 => True\n",
            "10 > 3 => True\n",
            "10 < 3 => True\n",
            "10 <= 3 => False\n"
          ]
        }
      ]
    },
    {
      "cell_type": "code",
      "source": [
        "print(bin(13))\n",
        "print(0b1101)"
      ],
      "metadata": {
        "colab": {
          "base_uri": "https://localhost:8080/"
        },
        "id": "uD-FXa99YxFD",
        "outputId": "cf1abe78-ad84-4604-9899-35091f2a59e1"
      },
      "execution_count": null,
      "outputs": [
        {
          "output_type": "stream",
          "name": "stdout",
          "text": [
            "0b1101\n",
            "13\n"
          ]
        }
      ]
    },
    {
      "cell_type": "code",
      "source": [
        "print(bin(0b1101&0b1001))\n",
        "print(13&9)\n",
        "print(bin(0b1101|0b1001))\n",
        "print(13|9)\n",
        "print(bin(0b1101^0b1001))\n",
        "print(13^9)\n",
        "print(bin(~0b1101))\n",
        "print(~13)"
      ],
      "metadata": {
        "colab": {
          "base_uri": "https://localhost:8080/"
        },
        "id": "n7likK15Yx9K",
        "outputId": "91bddff5-1f8d-4078-e9e8-1d4578d89dc9"
      },
      "execution_count": null,
      "outputs": [
        {
          "output_type": "stream",
          "name": "stdout",
          "text": [
            "0b1001\n",
            "9\n",
            "0b1101\n",
            "13\n",
            "0b100\n",
            "4\n",
            "-0b1110\n",
            "-14\n"
          ]
        }
      ]
    }
  ]
}