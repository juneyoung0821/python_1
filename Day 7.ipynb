{
  "nbformat": 4,
  "nbformat_minor": 0,
  "metadata": {
    "colab": {
      "provenance": [],
      "include_colab_link": true
    },
    "kernelspec": {
      "name": "python3",
      "display_name": "Python 3"
    },
    "language_info": {
      "name": "python"
    }
  },
  "cells": [
    {
      "cell_type": "markdown",
      "metadata": {
        "id": "view-in-github",
        "colab_type": "text"
      },
      "source": [
        "<a href=\"https://colab.research.google.com/github/juneyoung0821/python_1/blob/main/Day%207.ipynb\" target=\"_parent\"><img src=\"https://colab.research.google.com/assets/colab-badge.svg\" alt=\"Open In Colab\"/></a>"
      ]
    },
    {
      "cell_type": "code",
      "execution_count": null,
      "metadata": {
        "colab": {
          "base_uri": "https://localhost:8080/"
        },
        "id": "lrGfmJwrKDYt",
        "outputId": "07063ab7-3ac3-42b7-d5f6-88fb204d2928"
      },
      "outputs": [
        {
          "output_type": "stream",
          "name": "stdout",
          "text": [
            "12\n",
            "4\n"
          ]
        }
      ],
      "source": [
        "a='Ilove Python'\n",
        "print(len(a))\n",
        "\n",
        "b='abcd'\n",
        "print(len(b))"
      ]
    },
    {
      "cell_type": "code",
      "source": [
        "name = 'BlockDMask'\n",
        "phone = '010 xxxx xxxx'\n",
        "address = 'korea'\n",
        "print(len(name))\n",
        "print(len(phone))\n",
        "print(len(address))"
      ],
      "metadata": {
        "colab": {
          "base_uri": "https://localhost:8080/"
        },
        "id": "pAcNrcBHKbYW",
        "outputId": "69aa1124-2fd6-41de-8716-c24d24c9401d"
      },
      "execution_count": null,
      "outputs": [
        {
          "output_type": "stream",
          "name": "stdout",
          "text": [
            "10\n",
            "13\n",
            "5\n"
          ]
        }
      ]
    },
    {
      "cell_type": "code",
      "source": [
        "a=[1,2,3]\n",
        "print(min(a))\n",
        "\n",
        "b='bBlockDMask'\n",
        "print(min(b))\n",
        "\n",
        "c=1\n",
        "#print(min(c))\n",
        "\n",
        "d=(6,5,4,2)\n",
        "print(max(d))\n",
        "\n",
        "e=[3,4,5, 'a','b','c']\n",
        "#print(min(e))\n"
      ],
      "metadata": {
        "colab": {
          "base_uri": "https://localhost:8080/"
        },
        "id": "VgK0mOYmK0KD",
        "outputId": "ae286fff-c89b-4225-ad89-e84ebd55d2e8"
      },
      "execution_count": null,
      "outputs": [
        {
          "output_type": "stream",
          "name": "stdout",
          "text": [
            "1\n",
            "B\n",
            "6\n"
          ]
        }
      ]
    },
    {
      "cell_type": "code",
      "source": [
        "a=[1,2,3]\n",
        "b=[1,2,4]\n",
        "print(min(a,b))\n",
        "\n",
        "c='BBB'\n",
        "d='BBa'\n",
        "print(min(c,d))"
      ],
      "metadata": {
        "colab": {
          "base_uri": "https://localhost:8080/"
        },
        "id": "ZyjBZ10oLMa7",
        "outputId": "108f079e-126b-4ecb-8d75-d11182edaeaa"
      },
      "execution_count": null,
      "outputs": [
        {
          "output_type": "stream",
          "name": "stdout",
          "text": [
            "[1, 2, 3]\n",
            "BBB\n"
          ]
        }
      ]
    },
    {
      "cell_type": "code",
      "source": [
        "g=[2,3,4]\n",
        "h=[2,2,2,2,2]\n",
        "i=[9,8,7,6,5]\n",
        "j=[i]\n",
        "k=['a']\n",
        "print(min(g,h,i,j,k))"
      ],
      "metadata": {
        "colab": {
          "base_uri": "https://localhost:8080/",
          "height": 176
        },
        "id": "MszPKMFBOPLW",
        "outputId": "66ecd667-dc90-4f36-aed4-829b711dc92f"
      },
      "execution_count": null,
      "outputs": [
        {
          "output_type": "error",
          "ename": "TypeError",
          "evalue": "'<' not supported between instances of 'list' and 'int'",
          "traceback": [
            "\u001b[0;31m---------------------------------------------------------------------------\u001b[0m",
            "\u001b[0;31mTypeError\u001b[0m                                 Traceback (most recent call last)",
            "\u001b[0;32m<ipython-input-15-d35b5f96deff>\u001b[0m in \u001b[0;36m<cell line: 6>\u001b[0;34m()\u001b[0m\n\u001b[1;32m      4\u001b[0m \u001b[0mj\u001b[0m\u001b[0;34m=\u001b[0m\u001b[0;34m[\u001b[0m\u001b[0mi\u001b[0m\u001b[0;34m]\u001b[0m\u001b[0;34m\u001b[0m\u001b[0;34m\u001b[0m\u001b[0m\n\u001b[1;32m      5\u001b[0m \u001b[0mk\u001b[0m\u001b[0;34m=\u001b[0m\u001b[0;34m[\u001b[0m\u001b[0;34m'a'\u001b[0m\u001b[0;34m]\u001b[0m\u001b[0;34m\u001b[0m\u001b[0;34m\u001b[0m\u001b[0m\n\u001b[0;32m----> 6\u001b[0;31m \u001b[0mprint\u001b[0m\u001b[0;34m(\u001b[0m\u001b[0mmin\u001b[0m\u001b[0;34m(\u001b[0m\u001b[0mg\u001b[0m\u001b[0;34m,\u001b[0m\u001b[0mh\u001b[0m\u001b[0;34m,\u001b[0m\u001b[0mi\u001b[0m\u001b[0;34m,\u001b[0m\u001b[0mj\u001b[0m\u001b[0;34m,\u001b[0m\u001b[0mk\u001b[0m\u001b[0;34m)\u001b[0m\u001b[0;34m)\u001b[0m\u001b[0;34m\u001b[0m\u001b[0;34m\u001b[0m\u001b[0m\n\u001b[0m",
            "\u001b[0;31mTypeError\u001b[0m: '<' not supported between instances of 'list' and 'int'"
          ]
        }
      ]
    },
    {
      "cell_type": "code",
      "source": [
        "myString=\"everydevel\"\n",
        "print(myString.count('ev'))"
      ],
      "metadata": {
        "colab": {
          "base_uri": "https://localhost:8080/"
        },
        "id": "BrCwbY_cOyOl",
        "outputId": "7ded1232-84d3-4feb-a5db-02b07f58cc79"
      },
      "execution_count": null,
      "outputs": [
        {
          "output_type": "stream",
          "name": "stdout",
          "text": [
            "2\n"
          ]
        }
      ]
    },
    {
      "cell_type": "code",
      "source": [
        "a='BlockDMask'\n",
        "\n",
        "print('#1 a.count(\"k\")')\n",
        "print(a.count('k'))\n",
        "print('#2 a.count(\"DM\")')\n",
        "print(a.count('DM'))\n",
        "print(\"#3 a[2]+'~'+a[4]\")\n",
        "print(a[2]+'~'+a[4])\n",
        "print(\"#4 a.count('k',2,3)\")\n",
        "print(a.count('k',2,3))\n",
        "print(\"#5 a.count('k',2,4)\")\n",
        "print(a.count('k',2,4))\n",
        "print(\"#6 a.count('k',2,5)\")\n",
        "print(a.count('k',2,5))"
      ],
      "metadata": {
        "colab": {
          "base_uri": "https://localhost:8080/"
        },
        "id": "EKz73wYoPCnt",
        "outputId": "16e9909d-2af1-46c0-9bac-333705639b9e"
      },
      "execution_count": null,
      "outputs": [
        {
          "output_type": "stream",
          "name": "stdout",
          "text": [
            "#1 a.count(\"k\")\n",
            "2\n",
            "#2 a.count(\"DM\")\n",
            "1\n",
            "#3 a[2]+'~'+a[4]\n",
            "o~k\n",
            "#4 a.count('k',2,3)\n",
            "0\n",
            "#5 a.count('k',2,4)\n",
            "0\n",
            "#6 a.count('k',2,5)\n",
            "1\n"
          ]
        }
      ]
    },
    {
      "cell_type": "code",
      "source": [
        "str=\"BlockDMask Blog.\";\n",
        "print(f\"str : {str}\\n\")\n",
        "\n",
        "#find 예제 1\n",
        "print(\"1. str.find('찾을 문자')\")\n",
        "result1=str.find('B')\n",
        "\n",
        "\n",
        "#문자가 있는 경우\n",
        "result2 = str.find('z')\n",
        "\n",
        "# #문자가 없는 경우\n",
        "print(f\"str.find('B') : {result1}\")\n",
        "print(f\"str.find('z') : {result2}\")\n",
        "\n",
        "result3 = str.find('ask')\n",
        "print(f\"str.find('ask') : {result3}\")"
      ],
      "metadata": {
        "colab": {
          "base_uri": "https://localhost:8080/"
        },
        "id": "AMHOGEdmSR7w",
        "outputId": "445eb6e5-5639-4ed3-8aca-847eca2c1972"
      },
      "execution_count": null,
      "outputs": [
        {
          "output_type": "stream",
          "name": "stdout",
          "text": [
            "str : BlockDMask Blog.\n",
            "\n",
            "1. str.find('찾을 문자')\n",
            "str.find('B') : 0\n",
            "str.find('z') : -1\n",
            "str.find('ask') : 7\n"
          ]
        }
      ]
    },
    {
      "cell_type": "code",
      "source": [
        "result4=str.find('kkk')\n",
        "\n",
        "#문자열이 없는 경우\n",
        "print(f\"str.find('kkk') : {result4}\")\n",
        "print()"
      ],
      "metadata": {
        "colab": {
          "base_uri": "https://localhost:8080/"
        },
        "id": "OXk2EGFPWYjA",
        "outputId": "b0c0c680-0076-4730-8e50-0491e793b576"
      },
      "execution_count": null,
      "outputs": [
        {
          "output_type": "stream",
          "name": "stdout",
          "text": [
            "str.find('kkk') : -1\n",
            "\n"
          ]
        }
      ]
    },
    {
      "cell_type": "code",
      "source": [
        "print(\"2.str.find('찾을 문자',시작index)\")\n",
        "result5=str.find('o')\n",
        "result6=str.find('o',5)\n",
        "print(f\"str.find('o') : {result5}\")\n",
        "print(f\"str[5] : {str[5]}\")\n",
        "print(f\"str.find('o',5) : {result6}\")\n",
        "print()"
      ],
      "metadata": {
        "colab": {
          "base_uri": "https://localhost:8080/"
        },
        "id": "8gPIXY2zWs9f",
        "outputId": "c9c4335f-6e80-4ab1-c468-0a8695b30183"
      },
      "execution_count": null,
      "outputs": [
        {
          "output_type": "stream",
          "name": "stdout",
          "text": [
            "2.str.find('찾을 문자',시작index)\n",
            "str.find('o') : 2\n",
            "str[5] : D\n",
            "str.find('o',5) : 13\n",
            "\n"
          ]
        }
      ]
    },
    {
      "cell_type": "code",
      "source": [
        "str=\"BlockDMascleark Blog.\";\n",
        "print(f\"str : {str}\\n\")\n",
        "\n",
        "#rfind 예제\n",
        "print(\"1.str.rfind('찾을 문자')\")\n",
        "result1=str.rfind('.',19)\n",
        "\n",
        "print(f\"str.find('.') : {result1}\")"
      ],
      "metadata": {
        "colab": {
          "base_uri": "https://localhost:8080/"
        },
        "id": "i1eJXKcwWwZ3",
        "outputId": "35ec0859-59f1-4577-e752-13eff7e8cf98"
      },
      "execution_count": null,
      "outputs": [
        {
          "output_type": "stream",
          "name": "stdout",
          "text": [
            "str : BlockDMascleark Blog.\n",
            "\n",
            "1.str.rfind('찾을 문자')\n",
            "str.find('.') : 20\n"
          ]
        }
      ]
    },
    {
      "cell_type": "code",
      "source": [
        "str=\".BlockDMascleark Blog.\";\n",
        "print(f\"str : {str}\\n\")\n",
        "\n",
        "print(\"1.str.rfind('찾을 문자')\")\n",
        "result1=str.rfind('.',0,5)\n",
        "\n",
        "print(f\"str.find('.') : {result1}\")"
      ],
      "metadata": {
        "colab": {
          "base_uri": "https://localhost:8080/"
        },
        "id": "w3vWcYpRYZFw",
        "outputId": "49ff02d7-4f64-458e-f7c5-1f35166acb24"
      },
      "execution_count": null,
      "outputs": [
        {
          "output_type": "stream",
          "name": "stdout",
          "text": [
            "str : .BlockDMascleark Blog.\n",
            "\n",
            "1.str.rfind('찾을 문자')\n",
            "str.find('.') : 0\n"
          ]
        }
      ]
    },
    {
      "cell_type": "code",
      "source": [
        "str='Hello World, Python!'\n",
        "\n",
        "if str.startswith('Hello'):\n",
        "    print('It starts with Hello')\n",
        "\n",
        "if not str.startswith('Python'):\n",
        "    print('It does not start with Python')\n",
        "\n",
        "print(str.startswith('Hello'))\n",
        "print(str.startswith('Python'))"
      ],
      "metadata": {
        "colab": {
          "base_uri": "https://localhost:8080/"
        },
        "id": "D9dSTec5bjzc",
        "outputId": "907996c8-17ff-4644-b4b6-3b964f12199c"
      },
      "execution_count": null,
      "outputs": [
        {
          "output_type": "stream",
          "name": "stdout",
          "text": [
            "It starts with Hello\n",
            "It does not start with Python\n",
            "True\n",
            "False\n"
          ]
        }
      ]
    },
    {
      "cell_type": "code",
      "source": [
        "str='Hello World, Python!'\n",
        "\n",
        "if str.startswith('Hello'):\n",
        "    print('It starts with Hello')\n",
        "\n",
        "if not str.endswith('Python'):\n",
        "    print('It does not start with Python')\n",
        "\n",
        "print(str.startswith('Hello',1))\n",
        "print(str.endswith('Python!',1,30))"
      ],
      "metadata": {
        "colab": {
          "base_uri": "https://localhost:8080/"
        },
        "id": "HCBb3eDucQej",
        "outputId": "2bf3f6c7-b704-48e5-aad1-c0c4e14c2bfb"
      },
      "execution_count": null,
      "outputs": [
        {
          "output_type": "stream",
          "name": "stdout",
          "text": [
            "It starts with Hello\n",
            "It does not start with Python\n",
            "False\n",
            "True\n"
          ]
        }
      ]
    },
    {
      "cell_type": "code",
      "source": [
        "str='Hello World, Python!'\n",
        "\n",
        "print(len(str))\n",
        "\n",
        "if str.startswith('Hello'):\n",
        "    print('It starts with Hello')\n",
        "\n",
        "if not str.endswith('Python!'):\n",
        "    print('It does not start with Hello')\n",
        "\n",
        "print(str.startswith('Hello',1))\n",
        "print(str.endswith('Python!',1,20))"
      ],
      "metadata": {
        "colab": {
          "base_uri": "https://localhost:8080/"
        },
        "id": "e692X8xLdKUT",
        "outputId": "124d6063-7ff3-490b-ae7a-64e566c88413"
      },
      "execution_count": null,
      "outputs": [
        {
          "output_type": "stream",
          "name": "stdout",
          "text": [
            "20\n",
            "It starts with Hello\n",
            "False\n",
            "True\n"
          ]
        }
      ]
    },
    {
      "cell_type": "code",
      "source": [
        "str=\"this is string example....wow!!!\"\n",
        "\n",
        "suffix = \"wow!!!\"\n",
        "print(str.endswith(suffix))\n",
        "print(str.endswith(suffix,20))\n",
        "\n",
        "suffix = \"is\"\n",
        "print(str.endswith(suffix,2,4))\n",
        "print(str.endswith(suffix,2,6))"
      ],
      "metadata": {
        "colab": {
          "base_uri": "https://localhost:8080/"
        },
        "id": "35pFGs1zdnq6",
        "outputId": "33120ad2-5ae9-41d6-9a4a-4a4dfce5f794"
      },
      "execution_count": null,
      "outputs": [
        {
          "output_type": "stream",
          "name": "stdout",
          "text": [
            "True\n",
            "True\n",
            "True\n",
            "False\n"
          ]
        }
      ]
    },
    {
      "cell_type": "code",
      "source": [
        "str=\"this is string example....wow!!!\"\n",
        "\n",
        "print(len(str))\n",
        "suffix = \"wow!!!\"\n",
        "print(str.endswith(suffix))\n",
        "print(str.endswith(suffix,20))\n",
        "\n",
        "suffix = \"is\"\n",
        "print(str.endswith(suffix,2,4))\n",
        "print(str.endswith(suffix,2,7))"
      ],
      "metadata": {
        "colab": {
          "base_uri": "https://localhost:8080/"
        },
        "id": "g5ZuGT1CeFbi",
        "outputId": "c08abe57-6f42-412f-e7b7-4fb276df0582"
      },
      "execution_count": null,
      "outputs": [
        {
          "output_type": "stream",
          "name": "stdout",
          "text": [
            "32\n",
            "True\n",
            "True\n",
            "True\n",
            "True\n"
          ]
        }
      ]
    },
    {
      "cell_type": "code",
      "source": [
        "a=[123,421,212,11,24,102,29,92,10]\n",
        "print(a.index(212))\n",
        "\n",
        "# 리스트.index(x)\n",
        "# 데이터 x의 위치 반환\n",
        "nums_list=[1,2,3,3,3,5,6,8,9]\n",
        "nums_tuple=(1,2,3,3,3,5,6,8,9)\n",
        "nums_set={1,2,3,5,6,8,9}\n",
        "\n",
        "print(nums_list.index(2)) #1\n",
        "print(nums_list.index(3)) #2\n",
        "# - 찾고자하는 데이터가 여러개 존재할 경우, 가장 작은 위치 값 반환\n",
        "\n",
        "print(nums_tuple.index(2)) #1\n",
        "print(nums_tuple.index(3)) #2"
      ],
      "metadata": {
        "colab": {
          "base_uri": "https://localhost:8080/"
        },
        "id": "8W2Ka-6sd3Lj",
        "outputId": "97798fd9-9c9a-419f-ed95-58e3071e6d88"
      },
      "execution_count": null,
      "outputs": [
        {
          "output_type": "stream",
          "name": "stdout",
          "text": [
            "2\n",
            "1\n",
            "2\n",
            "1\n",
            "2\n"
          ]
        }
      ]
    },
    {
      "cell_type": "code",
      "source": [
        "nums_list=[1,2,3,3,3,5,6,8,9]\n",
        "nums_tuple=(1,2,3,3,3,5,6,8,9)\n",
        "nums_set={1,2,3,5,6,8,9}\n",
        "\n",
        "print(nums_list.index(2)) # 1\n",
        "print(nums_list.index(3)) # 2\n",
        "# - 찾고자하는 데이터가 여러개 존재할 경우, 가장 작은 위치 값 반환\n",
        "\n",
        "print(nums_tuple.index(2)) # 1\n",
        "print(nums_tuple.index(3)) # 2"
      ],
      "metadata": {
        "colab": {
          "base_uri": "https://localhost:8080/"
        },
        "id": "RfbQKGW5haUL",
        "outputId": "113eeaf3-0e0e-43bf-c78e-f5cc403dc8c7"
      },
      "execution_count": null,
      "outputs": [
        {
          "output_type": "stream",
          "name": "stdout",
          "text": [
            "1\n",
            "2\n",
            "1\n",
            "2\n"
          ]
        }
      ]
    },
    {
      "cell_type": "code",
      "source": [
        "text = 'Welcome to Codetorial'\n",
        "\n",
        "pos_Code_last = text.rindex('code')\n",
        "print(pos_Code_last)\n",
        "\n",
        "pos_code_last = text.rfind('code')\n",
        "print(pos_code_last)\n",
        "\n",
        "pos_code_last = text.rindex('code')\n",
        "print(pos_code_last)"
      ],
      "metadata": {
        "colab": {
          "base_uri": "https://localhost:8080/",
          "height": 211
        },
        "id": "6uWiv8FghumT",
        "outputId": "41583200-ddfa-4424-8938-9e36fd387638"
      },
      "execution_count": null,
      "outputs": [
        {
          "output_type": "error",
          "ename": "ValueError",
          "evalue": "substring not found",
          "traceback": [
            "\u001b[0;31m---------------------------------------------------------------------------\u001b[0m",
            "\u001b[0;31mValueError\u001b[0m                                Traceback (most recent call last)",
            "\u001b[0;32m<ipython-input-53-bf6c4e5e422c>\u001b[0m in \u001b[0;36m<cell line: 3>\u001b[0;34m()\u001b[0m\n\u001b[1;32m      1\u001b[0m \u001b[0mtext\u001b[0m \u001b[0;34m=\u001b[0m \u001b[0;34m'Welcome to Codetorial'\u001b[0m\u001b[0;34m\u001b[0m\u001b[0;34m\u001b[0m\u001b[0m\n\u001b[1;32m      2\u001b[0m \u001b[0;34m\u001b[0m\u001b[0m\n\u001b[0;32m----> 3\u001b[0;31m \u001b[0mpos_Code_last\u001b[0m \u001b[0;34m=\u001b[0m \u001b[0mtext\u001b[0m\u001b[0;34m.\u001b[0m\u001b[0mrindex\u001b[0m\u001b[0;34m(\u001b[0m\u001b[0;34m'code'\u001b[0m\u001b[0;34m)\u001b[0m\u001b[0;34m\u001b[0m\u001b[0;34m\u001b[0m\u001b[0m\n\u001b[0m\u001b[1;32m      4\u001b[0m \u001b[0mprint\u001b[0m\u001b[0;34m(\u001b[0m\u001b[0mpos_Code_last\u001b[0m\u001b[0;34m)\u001b[0m\u001b[0;34m\u001b[0m\u001b[0;34m\u001b[0m\u001b[0m\n\u001b[1;32m      5\u001b[0m \u001b[0;34m\u001b[0m\u001b[0m\n",
            "\u001b[0;31mValueError\u001b[0m: substring not found"
          ]
        }
      ]
    }
  ]
}