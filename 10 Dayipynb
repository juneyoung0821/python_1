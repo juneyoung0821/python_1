{
  "nbformat": 4,
  "nbformat_minor": 0,
  "metadata": {
    "colab": {
      "provenance": [],
      "include_colab_link": true
    },
    "kernelspec": {
      "name": "python3",
      "display_name": "Python 3"
    },
    "language_info": {
      "name": "python"
    }
  },
  "cells": [
    {
      "cell_type": "markdown",
      "metadata": {
        "id": "view-in-github",
        "colab_type": "text"
      },
      "source": [
        "<a href=\"https://colab.research.google.com/github/juneyoung0821/python_1/blob/main/10%20Dayipynb\" target=\"_parent\"><img src=\"https://colab.research.google.com/assets/colab-badge.svg\" alt=\"Open In Colab\"/></a>"
      ]
    },
    {
      "cell_type": "code",
      "execution_count": null,
      "metadata": {
        "colab": {
          "base_uri": "https://localhost:8080/"
        },
        "id": "AYYHt2lgPiKs",
        "outputId": "bf9d4b7d-5936-43f3-eed8-6e0369c38c8e"
      },
      "outputs": [
        {
          "output_type": "stream",
          "name": "stdout",
          "text": [
            "BlockDMask\n",
            "BlockDMask\n",
            "BlockDMask\n",
            "BlockDMask\n",
            "BlockDMask\n",
            "BlockDMask\n",
            "1 곱하기 2 = 3\n",
            "1 곱하기 3 = 4\n",
            "2 곱하기 4 = 6\n"
          ]
        }
      ],
      "source": [
        "def func1():\n",
        "    print('BlockDMask')\n",
        "\n",
        "#함수 호출\n",
        "func1()\n",
        "func1()\n",
        "func1()\n",
        "\n",
        "for i in range(3):\n",
        "    func1()\n",
        "\n",
        "def func2(a,b):\n",
        "    print(f'{a} 곱하기 {b} = {a+b}')\n",
        "\n",
        "#함수 호출\n",
        "func2(1,2)\n",
        "func2(1,3)\n",
        "func2(2,4)"
      ]
    },
    {
      "cell_type": "code",
      "source": [
        "def func3():\n",
        "    return \"abcdefg\"\n",
        "\n",
        "#함수 호출\n",
        "\n",
        "a=func3()\n",
        "print(a,\"GG\", sep=\" \" )"
      ],
      "metadata": {
        "colab": {
          "base_uri": "https://localhost:8080/"
        },
        "id": "OFo2bGLSSHLo",
        "outputId": "bfc90754-b55e-4bbb-a6d5-43c1f99e4a77"
      },
      "execution_count": null,
      "outputs": [
        {
          "output_type": "stream",
          "name": "stdout",
          "text": [
            "abcdefg GG\n"
          ]
        }
      ]
    },
    {
      "cell_type": "code",
      "source": [
        "def func4(a,b):\n",
        "    return a*b\n",
        "\n",
        "#함수 호출\n",
        "a=input()\n",
        "c=func4(int(a),9)\n",
        "print(c)"
      ],
      "metadata": {
        "colab": {
          "base_uri": "https://localhost:8080/"
        },
        "id": "15GjOy-QSh0f",
        "outputId": "e8b59b09-b27f-4df9-d542-ff992e91e89a"
      },
      "execution_count": null,
      "outputs": [
        {
          "output_type": "stream",
          "name": "stdout",
          "text": [
            "3\n",
            "27\n"
          ]
        }
      ]
    },
    {
      "cell_type": "code",
      "source": [
        "for i in range(1,10):\n",
        "    print(f'{2}x{i} = {2*i}')\n",
        "for i in range(1,10):\n",
        "    print(f'{3}x{i} = {3*i}')\n",
        "\n",
        "print()\n",
        "print()\n",
        "print()\n",
        "\n",
        "def gugudan(num):\n",
        "    for i in range(1,10):\n",
        "        print(f'{num}x{i}={num*i}')\n",
        "    print()\n",
        "#구구단 출력\n",
        "gugudan(2)\n",
        "\n",
        "gugudan(2)"
      ],
      "metadata": {
        "colab": {
          "base_uri": "https://localhost:8080/"
        },
        "id": "U9f7D7w6TJX3",
        "outputId": "cba7e243-706d-44e6-867f-e88df1db6fe5"
      },
      "execution_count": null,
      "outputs": [
        {
          "output_type": "stream",
          "name": "stdout",
          "text": [
            "2x1 = 2\n",
            "2x2 = 4\n",
            "2x3 = 6\n",
            "2x4 = 8\n",
            "2x5 = 10\n",
            "2x6 = 12\n",
            "2x7 = 14\n",
            "2x8 = 16\n",
            "2x9 = 18\n",
            "3x1 = 3\n",
            "3x2 = 6\n",
            "3x3 = 9\n",
            "3x4 = 12\n",
            "3x5 = 15\n",
            "3x6 = 18\n",
            "3x7 = 21\n",
            "3x8 = 24\n",
            "3x9 = 27\n",
            "\n",
            "\n",
            "\n",
            "2x1=2\n",
            "2x2=4\n",
            "2x3=6\n",
            "2x4=8\n",
            "2x5=10\n",
            "2x6=12\n",
            "2x7=14\n",
            "2x8=16\n",
            "2x9=18\n",
            "\n",
            "2x1=2\n",
            "2x2=4\n",
            "2x3=6\n",
            "2x4=8\n",
            "2x5=10\n",
            "2x6=12\n",
            "2x7=14\n",
            "2x8=16\n",
            "2x9=18\n",
            "\n"
          ]
        }
      ]
    },
    {
      "cell_type": "code",
      "source": [
        "#디폴트 파라미터 예제 1\n",
        "def func1(a, b=5, c=10):\n",
        "    return a + b + c\n",
        "\n",
        "func1(1,2,3)\n",
        "func1(1,2)\n",
        "func1(1)"
      ],
      "metadata": {
        "colab": {
          "base_uri": "https://localhost:8080/"
        },
        "id": "PN4TWIA2UCkF",
        "outputId": "8fdcc172-9243-4fb7-e823-24aeecd47d98"
      },
      "execution_count": null,
      "outputs": [
        {
          "output_type": "execute_result",
          "data": {
            "text/plain": [
              "16"
            ]
          },
          "metadata": {},
          "execution_count": 10
        }
      ]
    },
    {
      "cell_type": "code",
      "source": [
        "#디폴트 파라미터 예제 2\n",
        "def func2(a=10, b=20):\n",
        "    return a+b\n",
        "\n",
        "print(func2(1, 2))\n",
        "print(func2(1))\n",
        "print(func2())"
      ],
      "metadata": {
        "colab": {
          "base_uri": "https://localhost:8080/"
        },
        "id": "9wU9rHQPUtnx",
        "outputId": "dcde8596-4ed0-40dd-a913-477d7b1a2409"
      },
      "execution_count": null,
      "outputs": [
        {
          "output_type": "stream",
          "name": "stdout",
          "text": [
            "3\n",
            "21\n",
            "30\n"
          ]
        }
      ]
    },
    {
      "cell_type": "code",
      "source": [
        " #디폴트 파라미터 예제 3 - error\n",
        " def func3(a=10,b,c): #error\n",
        "      return a+b+c\n",
        "func3(1,2)\n",
        "\n",
        "func3(,1,2)"
      ],
      "metadata": {
        "colab": {
          "base_uri": "https://localhost:8080/",
          "height": 106
        },
        "id": "8ibgwPJdVX6I",
        "outputId": "341d31c9-1201-4ed9-b00a-b16428a0c4af"
      },
      "execution_count": null,
      "outputs": [
        {
          "output_type": "error",
          "ename": "SyntaxError",
          "evalue": "non-default argument follows default argument (<ipython-input-17-320d5d627c40>, line 2)",
          "traceback": [
            "\u001b[0;36m  File \u001b[0;32m\"<ipython-input-17-320d5d627c40>\"\u001b[0;36m, line \u001b[0;32m2\u001b[0m\n\u001b[0;31m    def func3(a=10,b,c): #error\u001b[0m\n\u001b[0m                   ^\u001b[0m\n\u001b[0;31mSyntaxError\u001b[0m\u001b[0;31m:\u001b[0m non-default argument follows default argument\n"
          ]
        }
      ]
    },
    {
      "cell_type": "code",
      "source": [
        "def func6(*args):\n",
        "    a=0\n",
        "    for i in args:\n",
        "        a = a+i\n",
        "    return a\n",
        "\n",
        "b = func6(1,5)\n",
        "print(b)\n",
        "\n",
        "c=func6(2,3,4,5)\n",
        "print(c)\n",
        "\n",
        "d=func6(1,2,3,4,5,4,3,2,1)\n",
        "print(d)\n",
        "\n",
        "e=func6()\n",
        "print(e)"
      ],
      "metadata": {
        "colab": {
          "base_uri": "https://localhost:8080/"
        },
        "id": "bFAHDh6zWc-Z",
        "outputId": "6838ce09-2d14-431b-c3a1-c6dd102ad4e2"
      },
      "execution_count": null,
      "outputs": [
        {
          "output_type": "stream",
          "name": "stdout",
          "text": [
            "6\n",
            "14\n",
            "25\n",
            "0\n"
          ]
        }
      ]
    },
    {
      "cell_type": "code",
      "source": [
        "def test(*val):\n",
        "    for i in val:\n",
        "        print(i)\n",
        "\n",
        "test(1,'a','c',3)"
      ],
      "metadata": {
        "colab": {
          "base_uri": "https://localhost:8080/"
        },
        "id": "ywILLKnXWxTO",
        "outputId": "018916ad-b260-4b89-f913-89d0a1564e4c"
      },
      "execution_count": null,
      "outputs": [
        {
          "output_type": "stream",
          "name": "stdout",
          "text": [
            "1\n",
            "a\n",
            "c\n",
            "3\n"
          ]
        }
      ]
    },
    {
      "cell_type": "code",
      "source": [
        "def sum_mul(choice,*val):\n",
        "    if choice =='sum':\n",
        "        result = 0\n",
        "        for i in val:\n",
        "            result = result + i\n",
        "    elif choice == 'mul':\n",
        "        result = 1\n",
        "        for i in val:\n",
        "            result = result * i\n",
        "    print()\n",
        "    return result\n",
        "\n",
        "print(sum_mul('sum',1,2,3,4,5))\n",
        "\n",
        "print(sum_mul('mul',1,2,3,4,5))"
      ],
      "metadata": {
        "colab": {
          "base_uri": "https://localhost:8080/"
        },
        "id": "tO9aCPkDXP7J",
        "outputId": "5f4d5425-c9c5-4945-9a28-459c01dea5b2"
      },
      "execution_count": null,
      "outputs": [
        {
          "output_type": "stream",
          "name": "stdout",
          "text": [
            "\n",
            "15\n",
            "\n",
            "120\n"
          ]
        }
      ]
    },
    {
      "cell_type": "code",
      "source": [
        "def comp(score=0):\n",
        "    if score ==0:\n",
        "        return 0\n",
        "    elif score > 50:\n",
        "        return 2\n",
        "    else:\n",
        "        return 1\n",
        "\n",
        "grade = comp (40)\n",
        "print(\"Grade is\", grade,\"for\",40)\n",
        "\n",
        "grade = comp (80)\n",
        "print(\"Grade is\",grade,\"for\",80)\n",
        "\n",
        "grade = comp()\n",
        "print(\"Grade is\",grade,\"for no score\")"
      ],
      "metadata": {
        "colab": {
          "base_uri": "https://localhost:8080/"
        },
        "id": "YA1NNBk9X2bC",
        "outputId": "268d3c4b-923e-4b2c-bdfd-fa7358c2419b"
      },
      "execution_count": null,
      "outputs": [
        {
          "output_type": "stream",
          "name": "stdout",
          "text": [
            "Grade is 1 for 40\n",
            "Grade is 2 for 80\n",
            "Grade is 0 for no score\n"
          ]
        }
      ]
    },
    {
      "cell_type": "code",
      "source": [
        "def report(name,age,score):\n",
        "    print(name,score)\n",
        "\n",
        "report(age=10, name=\"Kim\",score=80)\n",
        "report(\"Kim\",10,80)"
      ],
      "metadata": {
        "colab": {
          "base_uri": "https://localhost:8080/"
        },
        "id": "MGYCeGJAZ22J",
        "outputId": "541e1991-a4d1-40fa-c1be-c96377babf28"
      },
      "execution_count": null,
      "outputs": [
        {
          "output_type": "stream",
          "name": "stdout",
          "text": [
            "Kim 80\n",
            "Kim 80\n"
          ]
        }
      ]
    }
  ]
}