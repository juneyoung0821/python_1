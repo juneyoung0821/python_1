{
  "nbformat": 4,
  "nbformat_minor": 0,
  "metadata": {
    "colab": {
      "provenance": [],
      "include_colab_link": true
    },
    "kernelspec": {
      "name": "python3",
      "display_name": "Python 3"
    },
    "language_info": {
      "name": "python"
    }
  },
  "cells": [
    {
      "cell_type": "markdown",
      "metadata": {
        "id": "view-in-github",
        "colab_type": "text"
      },
      "source": [
        "<a href=\"https://colab.research.google.com/github/juneyoung0821/python_1/blob/main/Python_6.ipynb\" target=\"_parent\"><img src=\"https://colab.research.google.com/assets/colab-badge.svg\" alt=\"Open In Colab\"/></a>"
      ]
    },
    {
      "cell_type": "code",
      "execution_count": null,
      "metadata": {
        "colab": {
          "base_uri": "https://localhost:8080/"
        },
        "id": "UYcL78dwV67-",
        "outputId": "fff3b71f-680e-4ef9-9b82-099a78a8548c"
      },
      "outputs": [
        {
          "output_type": "stream",
          "name": "stdout",
          "text": [
            "How old are you:19\n",
            "19 years old\n"
          ]
        }
      ],
      "source": [
        "str = input(\"How old are you:\")\n",
        "print(str,'years old',sep=' ')"
      ]
    },
    {
      "cell_type": "code",
      "source": [
        "x=int(input('number :'))\n",
        "print(x)"
      ],
      "metadata": {
        "colab": {
          "base_uri": "https://localhost:8080/"
        },
        "id": "ScDKrf8-Wv10",
        "outputId": "0d0374de-41aa-46e4-aa1e-5a120e3fe725"
      },
      "execution_count": null,
      "outputs": [
        {
          "output_type": "stream",
          "name": "stdout",
          "text": [
            "number :19\n",
            "19\n"
          ]
        }
      ]
    },
    {
      "cell_type": "code",
      "source": [
        "x=float(input('number :'))\n",
        "print(x)"
      ],
      "metadata": {
        "colab": {
          "base_uri": "https://localhost:8080/"
        },
        "id": "_R2zfrVPXBYT",
        "outputId": "4d735071-08ea-47b4-c0b0-d2c9c084d259"
      },
      "execution_count": null,
      "outputs": [
        {
          "output_type": "stream",
          "name": "stdout",
          "text": [
            "number :19\n",
            "19.0\n"
          ]
        }
      ]
    },
    {
      "cell_type": "code",
      "source": [
        "year = input(\"This year:\")\n",
        "year = eval(year)\n",
        "year = year +1\n",
        "print(\"Next year:\",year)"
      ],
      "metadata": {
        "colab": {
          "base_uri": "https://localhost:8080/"
        },
        "id": "XTOuvkF6XIjc",
        "outputId": "92a29efd-b909-469b-a801-7a3b5fce5103"
      },
      "execution_count": null,
      "outputs": [
        {
          "output_type": "stream",
          "name": "stdout",
          "text": [
            "This year:2024\n",
            "Next year: 2025\n"
          ]
        }
      ]
    },
    {
      "cell_type": "code",
      "source": [
        "i=0\n",
        "result=0\n",
        "while i<5:\n",
        "    print(f'{i}번째')\n",
        "    a=input(\"성적 입력:\")\n",
        "    result += int(a)\n",
        "    i += 1\n",
        "\n",
        "print(f'합: {result}')\n",
        "print(f'평균: {result /5}')60"
      ],
      "metadata": {
        "colab": {
          "base_uri": "https://localhost:8080/"
        },
        "id": "9B2wT-vbXis_",
        "outputId": "fd71fed1-73a7-44be-ab7f-81522b8bdb58"
      },
      "execution_count": null,
      "outputs": [
        {
          "output_type": "stream",
          "name": "stdout",
          "text": [
            "0번째\n",
            "성적 입력:10\n",
            "1번째\n",
            "성적 입력:20\n",
            "2번째\n",
            "성적 입력:30\n",
            "3번째\n",
            "성적 입력:40\n",
            "4번째\n",
            "성적 입력:50\n",
            "합: 150\n",
            "평균: 30.0\n"
          ]
        }
      ]
    },
    {
      "cell_type": "code",
      "source": [
        "test_list = ['one','two','three']\n",
        "for i in test_list:\n",
        "    print(i)"
      ],
      "metadata": {
        "colab": {
          "base_uri": "https://localhost:8080/"
        },
        "id": "5NOBjrn0YGo0",
        "outputId": "6b757e51-9ddd-4bac-bf3e-b082a62e8150"
      },
      "execution_count": null,
      "outputs": [
        {
          "output_type": "stream",
          "name": "stdout",
          "text": [
            "one\n",
            "two\n",
            "three\n"
          ]
        }
      ]
    },
    {
      "cell_type": "code",
      "source": [
        "for i in range(1,10):\n",
        "    print(i)"
      ],
      "metadata": {
        "colab": {
          "base_uri": "https://localhost:8080/"
        },
        "id": "gup1oWmjY4LE",
        "outputId": "38c9a715-18ff-4962-ad18-006c144d913d"
      },
      "execution_count": null,
      "outputs": [
        {
          "output_type": "stream",
          "name": "stdout",
          "text": [
            "1\n",
            "2\n",
            "3\n",
            "4\n",
            "5\n",
            "6\n",
            "7\n",
            "8\n",
            "9\n"
          ]
        }
      ]
    },
    {
      "cell_type": "code",
      "source": [
        "result = 0\n",
        "for a in range(1,101):\n",
        "    result = result + a\n",
        "    print(f\"{a} sum = {result}\")\n",
        "\n",
        "print(result)"
      ],
      "metadata": {
        "colab": {
          "base_uri": "https://localhost:8080/"
        },
        "id": "Hct-A68aZDAl",
        "outputId": "96160d3e-39aa-43ca-ca2a-64077180b683"
      },
      "execution_count": null,
      "outputs": [
        {
          "output_type": "stream",
          "name": "stdout",
          "text": [
            "1 sum = 1\n",
            "2 sum = 3\n",
            "3 sum = 6\n",
            "4 sum = 10\n",
            "5 sum = 15\n",
            "6 sum = 21\n",
            "7 sum = 28\n",
            "8 sum = 36\n",
            "9 sum = 45\n",
            "10 sum = 55\n",
            "11 sum = 66\n",
            "12 sum = 78\n",
            "13 sum = 91\n",
            "14 sum = 105\n",
            "15 sum = 120\n",
            "16 sum = 136\n",
            "17 sum = 153\n",
            "18 sum = 171\n",
            "19 sum = 190\n",
            "20 sum = 210\n",
            "21 sum = 231\n",
            "22 sum = 253\n",
            "23 sum = 276\n",
            "24 sum = 300\n",
            "25 sum = 325\n",
            "26 sum = 351\n",
            "27 sum = 378\n",
            "28 sum = 406\n",
            "29 sum = 435\n",
            "30 sum = 465\n",
            "31 sum = 496\n",
            "32 sum = 528\n",
            "33 sum = 561\n",
            "34 sum = 595\n",
            "35 sum = 630\n",
            "36 sum = 666\n",
            "37 sum = 703\n",
            "38 sum = 741\n",
            "39 sum = 780\n",
            "40 sum = 820\n",
            "41 sum = 861\n",
            "42 sum = 903\n",
            "43 sum = 946\n",
            "44 sum = 990\n",
            "45 sum = 1035\n",
            "46 sum = 1081\n",
            "47 sum = 1128\n",
            "48 sum = 1176\n",
            "49 sum = 1225\n",
            "50 sum = 1275\n",
            "51 sum = 1326\n",
            "52 sum = 1378\n",
            "53 sum = 1431\n",
            "54 sum = 1485\n",
            "55 sum = 1540\n",
            "56 sum = 1596\n",
            "57 sum = 1653\n",
            "58 sum = 1711\n",
            "59 sum = 1770\n",
            "60 sum = 1830\n",
            "61 sum = 1891\n",
            "62 sum = 1953\n",
            "63 sum = 2016\n",
            "64 sum = 2080\n",
            "65 sum = 2145\n",
            "66 sum = 2211\n",
            "67 sum = 2278\n",
            "68 sum = 2346\n",
            "69 sum = 2415\n",
            "70 sum = 2485\n",
            "71 sum = 2556\n",
            "72 sum = 2628\n",
            "73 sum = 2701\n",
            "74 sum = 2775\n",
            "75 sum = 2850\n",
            "76 sum = 2926\n",
            "77 sum = 3003\n",
            "78 sum = 3081\n",
            "79 sum = 3160\n",
            "80 sum = 3240\n",
            "81 sum = 3321\n",
            "82 sum = 3403\n",
            "83 sum = 3486\n",
            "84 sum = 3570\n",
            "85 sum = 3655\n",
            "86 sum = 3741\n",
            "87 sum = 3828\n",
            "88 sum = 3916\n",
            "89 sum = 4005\n",
            "90 sum = 4095\n",
            "91 sum = 4186\n",
            "92 sum = 4278\n",
            "93 sum = 4371\n",
            "94 sum = 4465\n",
            "95 sum = 4560\n",
            "96 sum = 4656\n",
            "97 sum = 4753\n",
            "98 sum = 4851\n",
            "99 sum = 4950\n",
            "100 sum = 5050\n",
            "5050\n"
          ]
        }
      ]
    },
    {
      "cell_type": "code",
      "source": [
        "result = 0\n",
        "for a in range(1,101):\n",
        "    result = result + a\n",
        "    print(f'{a} sum = {result}')\n",
        "    if result >100:\n",
        "        break\n",
        "\n",
        "print(result)"
      ],
      "metadata": {
        "colab": {
          "base_uri": "https://localhost:8080/"
        },
        "id": "G7i88W3OZXU1",
        "outputId": "afa498e9-552c-492f-9bff-25c552bc38f0"
      },
      "execution_count": null,
      "outputs": [
        {
          "output_type": "stream",
          "name": "stdout",
          "text": [
            "1 sum = 1\n",
            "2 sum = 3\n",
            "3 sum = 6\n",
            "4 sum = 10\n",
            "5 sum = 15\n",
            "6 sum = 21\n",
            "7 sum = 28\n",
            "8 sum = 36\n",
            "9 sum = 45\n",
            "10 sum = 55\n",
            "11 sum = 66\n",
            "12 sum = 78\n",
            "13 sum = 91\n",
            "14 sum = 105\n",
            "105\n"
          ]
        }
      ]
    },
    {
      "cell_type": "code",
      "source": [
        "index = 0\n",
        "s = \"BlockDMask\"\n",
        "for a in s:\n",
        "    print(a,end=' ')\n",
        "    if a =='k':\n",
        "        break\n",
        "\n",
        "    index = index + 1\n",
        "\n",
        "print(index)"
      ],
      "metadata": {
        "colab": {
          "base_uri": "https://localhost:8080/"
        },
        "id": "G-X3FiNYZ6fG",
        "outputId": "25180afd-d86a-4881-e3f5-feda40058abf"
      },
      "execution_count": null,
      "outputs": [
        {
          "output_type": "stream",
          "name": "stdout",
          "text": [
            "B l o c k 4\n"
          ]
        }
      ]
    },
    {
      "cell_type": "code",
      "source": [
        "student = [180,170,164,199,182,172,177]\n",
        "for a in student:\n",
        "    if a >170:\n",
        "        continue\n",
        "\n",
        "    print(a)"
      ],
      "metadata": {
        "colab": {
          "base_uri": "https://localhost:8080/"
        },
        "id": "HzU-JKsMas-l",
        "outputId": "8feaeaf1-1233-4689-d70c-47d7c302f20c"
      },
      "execution_count": null,
      "outputs": [
        {
          "output_type": "stream",
          "name": "stdout",
          "text": [
            "170\n",
            "164\n"
          ]
        }
      ]
    },
    {
      "cell_type": "code",
      "source": [
        "l = ['Alice','Bob','Chrlie']\n",
        "\n",
        "for name in l:\n",
        "    print(name)\n",
        "else:\n",
        "    print(\"!! Finish\")"
      ],
      "metadata": {
        "colab": {
          "base_uri": "https://localhost:8080/"
        },
        "id": "q2xAAowYecFH",
        "outputId": "9308a0d4-82f1-4f28-8243-e087fe4c42fa"
      },
      "execution_count": null,
      "outputs": [
        {
          "output_type": "stream",
          "name": "stdout",
          "text": [
            "Alice\n",
            "Bob\n",
            "Chrlie\n",
            "!! Finish\n"
          ]
        }
      ]
    },
    {
      "cell_type": "code",
      "source": [
        "l = ['Alice','Bob','Chrlie']\n",
        "\n",
        "for name in l:\n",
        "    if name == 'Bob':\n",
        "        print(\"Break!\")\n",
        "        break\n",
        "    print(name)\n",
        "else:\n",
        "    print(\"!! Finish\")"
      ],
      "metadata": {
        "colab": {
          "base_uri": "https://localhost:8080/"
        },
        "id": "E_C8YKQ-bVcV",
        "outputId": "57af68fb-d515-4276-c0c2-f3a28d62a3b5"
      },
      "execution_count": null,
      "outputs": [
        {
          "output_type": "stream",
          "name": "stdout",
          "text": [
            "Alice\n",
            "Break!\n"
          ]
        }
      ]
    },
    {
      "cell_type": "code",
      "source": [
        "sr=['father','mother','brother']\n",
        "cnt=0\n",
        "for s in sr:\n",
        "    print(s)\n",
        "    for c in s:\n",
        "        print(c,end=' ')\n",
        "        if c == 'r':\n",
        "            print(' ')\n",
        "            cnt +=1\n",
        "print(cnt)"
      ],
      "metadata": {
        "colab": {
          "base_uri": "https://localhost:8080/"
        },
        "id": "XQQAXVhfepuu",
        "outputId": "9af742fe-d768-4a7a-e292-e9983c266f93"
      },
      "execution_count": null,
      "outputs": [
        {
          "output_type": "stream",
          "name": "stdout",
          "text": [
            "father\n",
            "f a t h e r  \n",
            "mother\n",
            "m o t h e r  \n",
            "brother\n",
            "b r  \n",
            "o t h e r  \n",
            "4\n"
          ]
        }
      ]
    },
    {
      "cell_type": "code",
      "source": [
        "a = []\n",
        "\n",
        "for i in range(3):\n",
        "    line = []\n",
        "    for j in range(2):\n",
        "        line.append(j+i)\n",
        "    a.append(line)\n",
        "\n",
        "print(a)"
      ],
      "metadata": {
        "colab": {
          "base_uri": "https://localhost:8080/"
        },
        "id": "dqeUZBj4gKTm",
        "outputId": "9442fe28-0c71-4e58-ef4b-b9322149eea4"
      },
      "execution_count": null,
      "outputs": [
        {
          "output_type": "stream",
          "name": "stdout",
          "text": [
            "[[0, 1], [1, 2], [2, 3]]\n"
          ]
        }
      ]
    },
    {
      "cell_type": "code",
      "source": [
        "for i in range(10,0,-3):\n",
        "\n",
        "    print(i)"
      ],
      "metadata": {
        "colab": {
          "base_uri": "https://localhost:8080/"
        },
        "id": "KUrJ6VFpjkKa",
        "outputId": "bc900387-49c2-401c-85ba-60774de1c025"
      },
      "execution_count": null,
      "outputs": [
        {
          "output_type": "stream",
          "name": "stdout",
          "text": [
            "10\n",
            "7\n",
            "4\n",
            "1\n"
          ]
        }
      ]
    },
    {
      "cell_type": "code",
      "source": [
        "l = ['Alice','Bob','Charlie']\n",
        "\n",
        "for i, name in enumerate(l,1):\n",
        "    print(i,name)"
      ],
      "metadata": {
        "colab": {
          "base_uri": "https://localhost:8080/"
        },
        "id": "qxjATxV2jwQ4",
        "outputId": "d8aeac77-95e9-441d-9fed-96867f36c217"
      },
      "execution_count": null,
      "outputs": [
        {
          "output_type": "stream",
          "name": "stdout",
          "text": [
            "1 Alice\n",
            "2 Bob\n",
            "3 Charlie\n"
          ]
        }
      ]
    }
  ]
}