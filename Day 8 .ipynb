{
  "nbformat": 4,
  "nbformat_minor": 0,
  "metadata": {
    "colab": {
      "provenance": [],
      "include_colab_link": true
    },
    "kernelspec": {
      "name": "python3",
      "display_name": "Python 3"
    },
    "language_info": {
      "name": "python"
    }
  },
  "cells": [
    {
      "cell_type": "markdown",
      "metadata": {
        "id": "view-in-github",
        "colab_type": "text"
      },
      "source": [
        "<a href=\"https://colab.research.google.com/github/juneyoung0821/python_1/blob/main/Day%208%20.ipynb\" target=\"_parent\"><img src=\"https://colab.research.google.com/assets/colab-badge.svg\" alt=\"Open In Colab\"/></a>"
      ]
    },
    {
      "cell_type": "code",
      "execution_count": null,
      "metadata": {
        "colab": {
          "base_uri": "https://localhost:8080/"
        },
        "id": "6MRLqbOdu8Xy",
        "outputId": "89e1315d-8a02-4d49-9e8d-693cb10f6317"
      },
      "outputs": [
        {
          "output_type": "stream",
          "name": "stdout",
          "text": [
            "True\n",
            "True\n",
            "False\n",
            "False\n",
            "True\n",
            "True\n",
            "False\n"
          ]
        }
      ],
      "source": [
        "text1 = \"네이스123\"\n",
        "text2 = \"123123\"\n",
        "text3 = \"!@#$\"\n",
        "text4 = \"!@#$1234\"\n",
        "text5 = \"wtf\"\n",
        "text6 = \"wtf123123\"\n",
        "text7 = \"한글!\"\n",
        "print(text1.isalnum())\n",
        "print(text2.isalnum())\n",
        "print(text3.isalnum())\n",
        "print(text4.isalnum())\n",
        "print(text5.isalnum())\n",
        "print(text6.isalnum())\n",
        "print(text7.isalnum())"
      ]
    },
    {
      "cell_type": "code",
      "source": [
        "text = \"!#$$!$!!!!!!!!@$#231421234네123^&^#$#이!#12313_+{스a\"\n",
        "text1 = \"네이스\"\n",
        "text2 = \"123123\"\n",
        "text3 = \"!@#$\"\n",
        "check = \"\"\n",
        "print(text1.isalpha())\n",
        "print(text2.isalpha())\n",
        "print(text3.isalpha())\n",
        "for i in text:\n",
        "    if i.isalpha():\n",
        "        check +=i\n",
        "print(check)"
      ],
      "metadata": {
        "colab": {
          "base_uri": "https://localhost:8080/"
        },
        "id": "NvwHaMltv-W0",
        "outputId": "863ef65d-6613-4517-d349-cdcf6078541d"
      },
      "execution_count": null,
      "outputs": [
        {
          "output_type": "stream",
          "name": "stdout",
          "text": [
            "True\n",
            "False\n",
            "False\n",
            "네이스a\n"
          ]
        }
      ]
    },
    {
      "cell_type": "code",
      "source": [
        "a= \"BlockDMask\" # 문자로만 이루어짐\n",
        "b= \"1234Blog\" #문자 + 숫자\n",
        "c= \"131231\" #숫자\n",
        "d= \"-234\" #음수\n",
        "e= \"1.23\" #소수점\n",
        "f= \"3**2\" #3의 2제곱 기호 숫자\n",
        "g= \"%\" #수학 기호 숫자 2/3\n",
        "h= \"0\" # 0\n",
        "i = \"0123\"\n",
        "# 0 으로 시작한 숫자\n",
        "# str.isdigit(\"문자열\")\n",
        "print(f\"str.isdigit('{a}')) : {str.isdigit(a)}\")\n",
        "print(f\"str.isdigit('{b}')) : {str.isdigit(b)}\")\n",
        "print(f\"str.isdigit('{c}')) : {str.isdigit(c)}\")\n",
        "print(f\"str.isdigit('{d}')) : {str.isdigit(d)}\")\n",
        "print(f\"str.isdigit('{e}')) : {str.isdigit(e)}\")\n",
        "print(f\"str.isdigit('{f}')) : {str.isdigit(f)}\")\n",
        "print(f\"str.isdigit('{g}')) : {str.isdigit(g)}\")\n",
        "print(f\"str.isdigit('{h}')) : {str.isdigit(h)}\")\n",
        "print(f\"str.isdigit('{i}')) : {str.isdigit(i)}\")\n",
        "print()\n",
        "\n",
        "# \"문자열\".isdigit()\n",
        "print(f\"'{a}'.isdigit() : {a.isdigit()}\")\n",
        "print(f\"'{b}'.isdigit() : {b.isdigit()}\")\n",
        "print(f\"'{c}'.isdigit() : {c.isdigit()}\")\n",
        "print(f\"'{d}'.isdigit() : {d.isdigit()}\")\n",
        "print(f\"'{e}'.isdigit() : {e.isdigit()}\")\n",
        "print(f\"'{f}'.isdigit() : {f.isdigit()}\")\n",
        "print(f\"'{g}'.isdigit() : {g.isdigit()}\")\n",
        "print(f\"'{h}'.isdigit() : {h.isdigit()}\")\n",
        "print(f\"'{i}'.isdigit() : {i.isdigit()}\")"
      ],
      "metadata": {
        "colab": {
          "base_uri": "https://localhost:8080/"
        },
        "id": "va5sqwU3xlNO",
        "outputId": "e0ea496a-c176-48dd-c1e4-2852acf4ab50"
      },
      "execution_count": null,
      "outputs": [
        {
          "output_type": "stream",
          "name": "stdout",
          "text": [
            "str.isdigit('BlockDMask')) : False\n",
            "str.isdigit('1234Blog')) : False\n",
            "str.isdigit('131231')) : True\n",
            "str.isdigit('-234')) : False\n",
            "str.isdigit('1.23')) : False\n",
            "str.isdigit('3**2')) : False\n",
            "str.isdigit('%')) : False\n",
            "str.isdigit('0')) : True\n",
            "str.isdigit('0123')) : True\n",
            "\n",
            "'BlockDMask'.isdigit() : False\n",
            "'1234Blog'.isdigit() : False\n",
            "'131231'.isdigit() : True\n",
            "'-234'.isdigit() : False\n",
            "'1.23'.isdigit() : False\n",
            "'3**2'.isdigit() : False\n",
            "'%'.isdigit() : False\n",
            "'0'.isdigit() : True\n",
            "'0123'.isdigit() : True\n"
          ]
        }
      ]
    },
    {
      "cell_type": "code",
      "source": [
        "a='12345678'\n",
        "print(a.isdigit())\n",
        "print(a.isdecimal())\n",
        "print(a.isnumeric())"
      ],
      "metadata": {
        "colab": {
          "base_uri": "https://localhost:8080/"
        },
        "id": "gzJe7NDixlVl",
        "outputId": "dd954c29-f2f0-4a25-a23a-fcb4586bdbe4"
      },
      "execution_count": null,
      "outputs": [
        {
          "output_type": "stream",
          "name": "stdout",
          "text": [
            "True\n",
            "True\n",
            "True\n"
          ]
        }
      ]
    },
    {
      "cell_type": "code",
      "source": [
        "x='3^2'\n",
        "print()\n",
        "print(x.isdigit())\n",
        "#True\n",
        "print(x.isdecimal())\n",
        "#False\n",
        "print(x.isnumeric())"
      ],
      "metadata": {
        "colab": {
          "base_uri": "https://localhost:8080/"
        },
        "id": "lZ5RNQw91yed",
        "outputId": "4d10ee13-bb26-4ac2-f356-d6645542580b"
      },
      "execution_count": null,
      "outputs": [
        {
          "output_type": "stream",
          "name": "stdout",
          "text": [
            "\n",
            "False\n",
            "False\n",
            "False\n"
          ]
        }
      ]
    },
    {
      "cell_type": "code",
      "source": [
        "a= \"I Love Python\"\n",
        "\n",
        "print(a.islower())\n",
        "print(a.isupper())\n",
        "print(a.upper())\n",
        "print(a.lower())"
      ],
      "metadata": {
        "colab": {
          "base_uri": "https://localhost:8080/"
        },
        "id": "Y0ULBU-22FBu",
        "outputId": "f37e900f-7e4a-4747-bc59-436b19a85c7e"
      },
      "execution_count": null,
      "outputs": [
        {
          "output_type": "stream",
          "name": "stdout",
          "text": [
            "False\n",
            "False\n",
            "I LOVE PYTHON\n",
            "i love python\n"
          ]
        }
      ]
    },
    {
      "cell_type": "code",
      "source": [
        "str = \"This is string example....wow!!!\"\n",
        "print(str.islower())\n",
        "print(str.upper())\n",
        "\n",
        "str = \"this is string example....wow!!!\"\n",
        "print(str.islower())"
      ],
      "metadata": {
        "colab": {
          "base_uri": "https://localhost:8080/"
        },
        "id": "ufIO0DW0DDCf",
        "outputId": "b6ec6b97-57e4-481d-caa8-fba129063e3f"
      },
      "execution_count": null,
      "outputs": [
        {
          "output_type": "stream",
          "name": "stdout",
          "text": [
            "False\n",
            "THIS IS STRING EXAMPLE....WOW!!!\n",
            "True\n"
          ]
        }
      ]
    },
    {
      "cell_type": "code",
      "source": [
        "str = \"this is string example....wow!!!\"\n",
        "print(str.swapcase())\n",
        "\n",
        "str= \"THIS IS STRING EXAMPLE....WOW!!! 1234\"\n",
        "print(str.swapcase())"
      ],
      "metadata": {
        "colab": {
          "base_uri": "https://localhost:8080/"
        },
        "id": "gawuXx4XDeuI",
        "outputId": "85dbc52a-c273-45ac-9842-d4a71e425d1a"
      },
      "execution_count": null,
      "outputs": [
        {
          "output_type": "stream",
          "name": "stdout",
          "text": [
            "THIS IS STRING EXAMPLE....WOW!!!\n",
            "this is string example....wow!!! 1234\n"
          ]
        }
      ]
    },
    {
      "cell_type": "code",
      "source": [
        "str = \"This Is String Example....Wow!!!\"\n",
        "print(str.istitle())\n",
        "\n",
        "str = \"This is string example....wow!!!\"\n",
        "print(str.istitle())\n",
        "print(str.title())"
      ],
      "metadata": {
        "colab": {
          "base_uri": "https://localhost:8080/"
        },
        "id": "FO3Y7Y7lDhx_",
        "outputId": "6bf2b92a-8fb1-47c5-c163-ca27e627ee25"
      },
      "execution_count": null,
      "outputs": [
        {
          "output_type": "stream",
          "name": "stdout",
          "text": [
            "True\n",
            "False\n",
            "This Is String Example....Wow!!!\n"
          ]
        }
      ]
    },
    {
      "cell_type": "code",
      "source": [
        "print('hello world!'.capitalize())\n",
        "print('HELLO WORLD!'.capitalize())"
      ],
      "metadata": {
        "colab": {
          "base_uri": "https://localhost:8080/"
        },
        "id": "BpzHOOeGHVA2",
        "outputId": "7082596f-2eeb-48df-9a74-d6fcf2d06a96"
      },
      "execution_count": null,
      "outputs": [
        {
          "output_type": "stream",
          "name": "stdout",
          "text": [
            "Hello world!\n",
            "Hello world!\n"
          ]
        }
      ]
    }
  ]
}