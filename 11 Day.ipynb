{
  "nbformat": 4,
  "nbformat_minor": 0,
  "metadata": {
    "colab": {
      "provenance": [],
      "include_colab_link": true
    },
    "kernelspec": {
      "name": "python3",
      "display_name": "Python 3"
    },
    "language_info": {
      "name": "python"
    }
  },
  "cells": [
    {
      "cell_type": "markdown",
      "metadata": {
        "id": "view-in-github",
        "colab_type": "text"
      },
      "source": [
        "<a href=\"https://colab.research.google.com/github/juneyoung0821/python_1/blob/main/11%20Day.ipynb\" target=\"_parent\"><img src=\"https://colab.research.google.com/assets/colab-badge.svg\" alt=\"Open In Colab\"/></a>"
      ]
    },
    {
      "cell_type": "code",
      "execution_count": null,
      "metadata": {
        "id": "ViUZ5B9TaXw-"
      },
      "outputs": [],
      "source": [
        "f = open(\"newfile.txt\",'w')\n",
        "f.close()\n",
        "\n",
        "f = open('ex_memo.txt','w')\n",
        "students = ['김철수','최영','한석규','김태희']\n",
        "for student in students:\n",
        "    msg = student\n",
        "    f.write(msg+\"\\n\")\n",
        "f.close()"
      ]
    },
    {
      "cell_type": "code",
      "source": [
        "file = open('hello.txt','wt')\n",
        "file.write('Hello,world!')\n",
        "file.close()"
      ],
      "metadata": {
        "id": "8PWg_qGCgvtJ"
      },
      "execution_count": null,
      "outputs": []
    },
    {
      "cell_type": "code",
      "source": [
        "f = open('test.txt','a',encoding='UTF-8')\n",
        "\n",
        "for i in range(4,10):\n",
        "    data= \"%d 번째 줄입니다. \\n\"%i\n",
        "    f.write(data)\n",
        "f.close()"
      ],
      "metadata": {
        "id": "9lQ_NdlI3j88"
      },
      "execution_count": null,
      "outputs": []
    },
    {
      "cell_type": "code",
      "source": [
        "dict1 = {'hello' :1,'brother':2}\n",
        "file1 = open(\"Original.txt\",\"w\")\n",
        "\n",
        "str1 = repr(dict1)\n",
        "file1.write(\"dict1 =\"+ str1 + \"\\n\")\n",
        "\n",
        "file1.close()"
      ],
      "metadata": {
        "id": "mLO-i5G78ypN"
      },
      "execution_count": null,
      "outputs": []
    },
    {
      "cell_type": "code",
      "source": [
        "test_file = open(\"test2.txt\",\"w\")\n",
        "\n",
        "a =1\n",
        "b=2\n",
        "test_file.write('%d +%d = %d'%(a,b,a+b))\n",
        "\n",
        "test_file.close"
      ],
      "metadata": {
        "colab": {
          "base_uri": "https://localhost:8080/"
        },
        "id": "yziLCY6R9b9z",
        "outputId": "8078241b-bcf0-4b1f-d1dc-655e7fb1789a"
      },
      "execution_count": null,
      "outputs": [
        {
          "output_type": "execute_result",
          "data": {
            "text/plain": [
              "<function TextIOWrapper.close()>"
            ]
          },
          "metadata": {},
          "execution_count": 5
        }
      ]
    },
    {
      "cell_type": "code",
      "source": [
        "test_file = open(\"test2.txt\",\"w\")\n",
        "\n",
        "a =1\n",
        "b=2\n",
        "test_file.write('%d +%d = %d'%(a,b,a+b)+'\\n')\n",
        "test_file.write('%d -%d = %d'%(a,b,a-b))\n",
        "test_file.close"
      ],
      "metadata": {
        "colab": {
          "base_uri": "https://localhost:8080/"
        },
        "id": "XhBn_FMy918z",
        "outputId": "3f1deb38-1bb6-44e4-d9a9-ff2bd46a6c22"
      },
      "execution_count": null,
      "outputs": [
        {
          "output_type": "execute_result",
          "data": {
            "text/plain": [
              "<function TextIOWrapper.close()>"
            ]
          },
          "metadata": {},
          "execution_count": 6
        }
      ]
    },
    {
      "cell_type": "code",
      "source": [
        "from random import randint\n",
        "with open('text3.txt','w') as f:\n",
        "    f.write('이번주 로또 번호는 ->')\n",
        "    for lotto in range(6):\n",
        "        f.write(str(randint(0,50)) +',')"
      ],
      "metadata": {
        "id": "2FAibLuT-amB"
      },
      "execution_count": null,
      "outputs": []
    },
    {
      "cell_type": "code",
      "source": [
        "lines = ['안녕하세요.\\n','파이썬\\n','코딩 도장입니다.\\n']\n",
        "\n",
        "with open('hello.txt','w') as file:\n",
        "  # hello.txt 파일을 쓰기 모드(w)로 열기\n",
        "    file.writelines(lines)\n",
        "file.close ()"
      ],
      "metadata": {
        "id": "CeoNJm3k_Atv"
      },
      "execution_count": null,
      "outputs": []
    },
    {
      "cell_type": "code",
      "source": [
        "lines = ['안녕하세요.\\n','파이썬\\n','코딩 도장입니다.\\n']\n",
        "\n",
        "with open('hello.txt','w') as file:\n",
        "# hello.txt 파일을 쓰기 모드(w)로 열기\n",
        "    for msg in lines:\n",
        "      file.write(msg)\n",
        "      print(msg)\n",
        "file.close ()"
      ],
      "metadata": {
        "colab": {
          "base_uri": "https://localhost:8080/"
        },
        "id": "8lpFo1dn_831",
        "outputId": "a649d5fa-26da-482b-8b1a-4ec1b7faaab2"
      },
      "execution_count": null,
      "outputs": [
        {
          "output_type": "stream",
          "name": "stdout",
          "text": [
            "안녕하세요.\n",
            "\n",
            "파이썬\n",
            "\n",
            "코딩 도장입니다.\n",
            "\n"
          ]
        }
      ]
    },
    {
      "cell_type": "code",
      "source": [
        "f = open('ex_memo.txt','w')\n",
        "students = ['김철수','최영','한석규','김태희']\n",
        "for student in students:\n",
        "    msg = student\n",
        "    f.write(msg+\" \")\n",
        "f.close()\n",
        "\n",
        "f = open('ex_memo2.txt','w')\n",
        "students = ['김철수','최영','한석규','김태희']\n",
        "f.writelines('\\n'.join(students))\n",
        "f.close()"
      ],
      "metadata": {
        "id": "NA7XtCrIBeJH"
      },
      "execution_count": null,
      "outputs": []
    },
    {
      "cell_type": "code",
      "source": [
        "f = open('t2.txt','r')\n",
        "\n",
        "print('\\n1.read()')\n",
        "print(f'위치 : {f.tell()}')\n",
        "s1=f.read(2)\n",
        "print(s1)\n",
        "print(f'위치 : {f.tell()}')"
      ],
      "metadata": {
        "colab": {
          "base_uri": "https://localhost:8080/",
          "height": 211
        },
        "id": "XtQO-CO1CKQV",
        "outputId": "628ee78b-50f0-4589-b619-00aa4cfb0f59"
      },
      "execution_count": null,
      "outputs": [
        {
          "output_type": "error",
          "ename": "FileNotFoundError",
          "evalue": "[Errno 2] No such file or directory: 't2.txt'",
          "traceback": [
            "\u001b[0;31m---------------------------------------------------------------------------\u001b[0m",
            "\u001b[0;31mFileNotFoundError\u001b[0m                         Traceback (most recent call last)",
            "\u001b[0;32m<ipython-input-19-f6340682677e>\u001b[0m in \u001b[0;36m<cell line: 1>\u001b[0;34m()\u001b[0m\n\u001b[0;32m----> 1\u001b[0;31m \u001b[0mf\u001b[0m \u001b[0;34m=\u001b[0m \u001b[0mopen\u001b[0m\u001b[0;34m(\u001b[0m\u001b[0;34m't2.txt'\u001b[0m\u001b[0;34m,\u001b[0m\u001b[0;34m'r'\u001b[0m\u001b[0;34m)\u001b[0m\u001b[0;34m\u001b[0m\u001b[0;34m\u001b[0m\u001b[0m\n\u001b[0m\u001b[1;32m      2\u001b[0m \u001b[0;34m\u001b[0m\u001b[0m\n\u001b[1;32m      3\u001b[0m \u001b[0mprint\u001b[0m\u001b[0;34m(\u001b[0m\u001b[0;34m'\\n1.read()'\u001b[0m\u001b[0;34m)\u001b[0m\u001b[0;34m\u001b[0m\u001b[0;34m\u001b[0m\u001b[0m\n\u001b[1;32m      4\u001b[0m \u001b[0mprint\u001b[0m\u001b[0;34m(\u001b[0m\u001b[0;34mf'위치 : {f.tell()}'\u001b[0m\u001b[0;34m)\u001b[0m\u001b[0;34m\u001b[0m\u001b[0;34m\u001b[0m\u001b[0m\n\u001b[1;32m      5\u001b[0m \u001b[0ms1\u001b[0m\u001b[0;34m=\u001b[0m\u001b[0mf\u001b[0m\u001b[0;34m.\u001b[0m\u001b[0mread\u001b[0m\u001b[0;34m(\u001b[0m\u001b[0;36m2\u001b[0m\u001b[0;34m)\u001b[0m\u001b[0;34m\u001b[0m\u001b[0;34m\u001b[0m\u001b[0m\n",
            "\u001b[0;31mFileNotFoundError\u001b[0m: [Errno 2] No such file or directory: 't2.txt'"
          ]
        }
      ]
    },
    {
      "cell_type": "code",
      "source": [
        "print('\\n2. readline()')\n",
        "print(f'위치 : {f.tell()}')\n",
        "\n",
        "s2 = f.readline()\n",
        "print(s2)\n",
        "\n",
        "s2 = f.readline()\n",
        "print(s2)"
      ],
      "metadata": {
        "colab": {
          "base_uri": "https://localhost:8080/",
          "height": 245
        },
        "id": "9qi1AJz8EI70",
        "outputId": "db75e3c3-229c-4f9d-b64d-f7615770212c"
      },
      "execution_count": null,
      "outputs": [
        {
          "output_type": "stream",
          "name": "stdout",
          "text": [
            "\n",
            "2. readline()\n"
          ]
        },
        {
          "output_type": "error",
          "ename": "ValueError",
          "evalue": "I/O operation on closed file.",
          "traceback": [
            "\u001b[0;31m---------------------------------------------------------------------------\u001b[0m",
            "\u001b[0;31mValueError\u001b[0m                                Traceback (most recent call last)",
            "\u001b[0;32m<ipython-input-22-b79e9e8821f1>\u001b[0m in \u001b[0;36m<cell line: 2>\u001b[0;34m()\u001b[0m\n\u001b[1;32m      1\u001b[0m \u001b[0mprint\u001b[0m\u001b[0;34m(\u001b[0m\u001b[0;34m'\\n2. readline()'\u001b[0m\u001b[0;34m)\u001b[0m\u001b[0;34m\u001b[0m\u001b[0;34m\u001b[0m\u001b[0m\n\u001b[0;32m----> 2\u001b[0;31m \u001b[0mprint\u001b[0m\u001b[0;34m(\u001b[0m\u001b[0;34mf'위치 : {f.tell()}'\u001b[0m\u001b[0;34m)\u001b[0m\u001b[0;34m\u001b[0m\u001b[0;34m\u001b[0m\u001b[0m\n\u001b[0m\u001b[1;32m      3\u001b[0m \u001b[0;34m\u001b[0m\u001b[0m\n\u001b[1;32m      4\u001b[0m \u001b[0ms2\u001b[0m \u001b[0;34m=\u001b[0m \u001b[0mf\u001b[0m\u001b[0;34m.\u001b[0m\u001b[0mreadline\u001b[0m\u001b[0;34m(\u001b[0m\u001b[0;34m)\u001b[0m\u001b[0;34m\u001b[0m\u001b[0;34m\u001b[0m\u001b[0m\n\u001b[1;32m      5\u001b[0m \u001b[0mprint\u001b[0m\u001b[0;34m(\u001b[0m\u001b[0ms2\u001b[0m\u001b[0;34m)\u001b[0m\u001b[0;34m\u001b[0m\u001b[0;34m\u001b[0m\u001b[0m\n",
            "\u001b[0;31mValueError\u001b[0m: I/O operation on closed file."
          ]
        }
      ]
    },
    {
      "cell_type": "code",
      "source": [
        "f = open('test.txt','r', encoding='UTF-8')\n",
        "line = f.readline()\n",
        "line = line.strip()\n",
        "print(line)\n",
        "line = f.readline()\n",
        "line = line.strip()\n",
        "print(line)\n",
        "line = f.readline()\n",
        "line = line.strip()\n",
        "print(line)\n",
        "f.seek(0)\n",
        "line = f.readline()\n",
        "line = line.strip()\n",
        "print(line)\n",
        "\n",
        "f.close()"
      ],
      "metadata": {
        "colab": {
          "base_uri": "https://localhost:8080/"
        },
        "id": "HnFjuSDVFx9O",
        "outputId": "9e9e1905-8f4a-4b08-d0f4-9a28f9d3a28d"
      },
      "execution_count": null,
      "outputs": [
        {
          "output_type": "stream",
          "name": "stdout",
          "text": [
            "4 번째 줄입니다.\n",
            "5 번째 줄입니다.\n",
            "6 번째 줄입니다.\n",
            "4 번째 줄입니다.\n"
          ]
        }
      ]
    }
  ]
}